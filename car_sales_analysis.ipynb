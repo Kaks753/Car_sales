{
 "cells": [
  {
   "cell_type": "markdown",
   "id": "be8cff8b",
   "metadata": {},
   "source": [
    "**Assignment**  **-**  **Pandas and Visualization using sns and plt**"
   ]
  },
  {
   "cell_type": "code",
   "execution_count": 8,
   "id": "4dfa66b3",
   "metadata": {},
   "outputs": [],
   "source": [
    "import pandas as pd\n",
    "df = pd.read_csv(\"car_sales_data.csv\")"
   ]
  },
  {
   "cell_type": "code",
   "execution_count": 11,
   "id": "31e63ecb",
   "metadata": {},
   "outputs": [
    {
     "name": "stdout",
     "output_type": "stream",
     "text": [
      "<class 'pandas.core.frame.DataFrame'>\n",
      "RangeIndex: 50000 entries, 0 to 49999\n",
      "Data columns (total 7 columns):\n",
      " #   Column               Non-Null Count  Dtype  \n",
      "---  ------               --------------  -----  \n",
      " 0   Manufacturer         50000 non-null  object \n",
      " 1   Model                50000 non-null  object \n",
      " 2   Engine size          50000 non-null  float64\n",
      " 3   Fuel type            50000 non-null  object \n",
      " 4   Year of manufacture  50000 non-null  int64  \n",
      " 5   Mileage              50000 non-null  int64  \n",
      " 6   Price                50000 non-null  int64  \n",
      "dtypes: float64(1), int64(3), object(3)\n",
      "memory usage: 2.7+ MB\n"
     ]
    }
   ],
   "source": [
    "df.info()"
   ]
  },
  {
   "cell_type": "code",
   "execution_count": 12,
   "id": "8b1a91e8",
   "metadata": {},
   "outputs": [
    {
     "data": {
      "text/plain": [
       "Index(['Manufacturer', 'Model', 'Engine size', 'Fuel type',\n",
       "       'Year of manufacture', 'Mileage', 'Price'],\n",
       "      dtype='object')"
      ]
     },
     "execution_count": 12,
     "metadata": {},
     "output_type": "execute_result"
    }
   ],
   "source": [
    "df.columns"
   ]
  },
  {
   "cell_type": "code",
   "execution_count": 14,
   "id": "081e5eeb",
   "metadata": {},
   "outputs": [
    {
     "data": {
      "text/plain": [
       "(50000, 7)"
      ]
     },
     "execution_count": 14,
     "metadata": {},
     "output_type": "execute_result"
    }
   ],
   "source": [
    "df.shape"
   ]
  },
  {
   "cell_type": "code",
   "execution_count": 9,
   "id": "73a66771",
   "metadata": {},
   "outputs": [
    {
     "data": {
      "text/html": [
       "<div>\n",
       "<style scoped>\n",
       "    .dataframe tbody tr th:only-of-type {\n",
       "        vertical-align: middle;\n",
       "    }\n",
       "\n",
       "    .dataframe tbody tr th {\n",
       "        vertical-align: top;\n",
       "    }\n",
       "\n",
       "    .dataframe thead th {\n",
       "        text-align: right;\n",
       "    }\n",
       "</style>\n",
       "<table border=\"1\" class=\"dataframe\">\n",
       "  <thead>\n",
       "    <tr style=\"text-align: right;\">\n",
       "      <th></th>\n",
       "      <th>Manufacturer</th>\n",
       "      <th>Model</th>\n",
       "      <th>Engine size</th>\n",
       "      <th>Fuel type</th>\n",
       "      <th>Year of manufacture</th>\n",
       "      <th>Mileage</th>\n",
       "      <th>Price</th>\n",
       "    </tr>\n",
       "  </thead>\n",
       "  <tbody>\n",
       "    <tr>\n",
       "      <th>0</th>\n",
       "      <td>Ford</td>\n",
       "      <td>Fiesta</td>\n",
       "      <td>1.0</td>\n",
       "      <td>Petrol</td>\n",
       "      <td>2002</td>\n",
       "      <td>127300</td>\n",
       "      <td>3074</td>\n",
       "    </tr>\n",
       "    <tr>\n",
       "      <th>1</th>\n",
       "      <td>Porsche</td>\n",
       "      <td>718 Cayman</td>\n",
       "      <td>4.0</td>\n",
       "      <td>Petrol</td>\n",
       "      <td>2016</td>\n",
       "      <td>57850</td>\n",
       "      <td>49704</td>\n",
       "    </tr>\n",
       "    <tr>\n",
       "      <th>2</th>\n",
       "      <td>Ford</td>\n",
       "      <td>Mondeo</td>\n",
       "      <td>1.6</td>\n",
       "      <td>Diesel</td>\n",
       "      <td>2014</td>\n",
       "      <td>39190</td>\n",
       "      <td>24072</td>\n",
       "    </tr>\n",
       "    <tr>\n",
       "      <th>3</th>\n",
       "      <td>Toyota</td>\n",
       "      <td>RAV4</td>\n",
       "      <td>1.8</td>\n",
       "      <td>Hybrid</td>\n",
       "      <td>1988</td>\n",
       "      <td>210814</td>\n",
       "      <td>1705</td>\n",
       "    </tr>\n",
       "    <tr>\n",
       "      <th>4</th>\n",
       "      <td>VW</td>\n",
       "      <td>Polo</td>\n",
       "      <td>1.0</td>\n",
       "      <td>Petrol</td>\n",
       "      <td>2006</td>\n",
       "      <td>127869</td>\n",
       "      <td>4101</td>\n",
       "    </tr>\n",
       "  </tbody>\n",
       "</table>\n",
       "</div>"
      ],
      "text/plain": [
       "  Manufacturer       Model  Engine size Fuel type  Year of manufacture  \\\n",
       "0         Ford      Fiesta          1.0    Petrol                 2002   \n",
       "1      Porsche  718 Cayman          4.0    Petrol                 2016   \n",
       "2         Ford      Mondeo          1.6    Diesel                 2014   \n",
       "3       Toyota        RAV4          1.8    Hybrid                 1988   \n",
       "4           VW        Polo          1.0    Petrol                 2006   \n",
       "\n",
       "   Mileage  Price  \n",
       "0   127300   3074  \n",
       "1    57850  49704  \n",
       "2    39190  24072  \n",
       "3   210814   1705  \n",
       "4   127869   4101  "
      ]
     },
     "execution_count": 9,
     "metadata": {},
     "output_type": "execute_result"
    }
   ],
   "source": [
    "df.head()"
   ]
  },
  {
   "cell_type": "code",
   "execution_count": 10,
   "id": "bf597245",
   "metadata": {},
   "outputs": [
    {
     "data": {
      "text/html": [
       "<div>\n",
       "<style scoped>\n",
       "    .dataframe tbody tr th:only-of-type {\n",
       "        vertical-align: middle;\n",
       "    }\n",
       "\n",
       "    .dataframe tbody tr th {\n",
       "        vertical-align: top;\n",
       "    }\n",
       "\n",
       "    .dataframe thead th {\n",
       "        text-align: right;\n",
       "    }\n",
       "</style>\n",
       "<table border=\"1\" class=\"dataframe\">\n",
       "  <thead>\n",
       "    <tr style=\"text-align: right;\">\n",
       "      <th></th>\n",
       "      <th>Engine size</th>\n",
       "      <th>Year of manufacture</th>\n",
       "      <th>Mileage</th>\n",
       "      <th>Price</th>\n",
       "    </tr>\n",
       "  </thead>\n",
       "  <tbody>\n",
       "    <tr>\n",
       "      <th>count</th>\n",
       "      <td>50000.000000</td>\n",
       "      <td>50000.000000</td>\n",
       "      <td>50000.000000</td>\n",
       "      <td>50000.000000</td>\n",
       "    </tr>\n",
       "    <tr>\n",
       "      <th>mean</th>\n",
       "      <td>1.773058</td>\n",
       "      <td>2004.209440</td>\n",
       "      <td>112497.320700</td>\n",
       "      <td>13828.903160</td>\n",
       "    </tr>\n",
       "    <tr>\n",
       "      <th>std</th>\n",
       "      <td>0.734108</td>\n",
       "      <td>9.645965</td>\n",
       "      <td>71632.515602</td>\n",
       "      <td>16416.681336</td>\n",
       "    </tr>\n",
       "    <tr>\n",
       "      <th>min</th>\n",
       "      <td>1.000000</td>\n",
       "      <td>1984.000000</td>\n",
       "      <td>630.000000</td>\n",
       "      <td>76.000000</td>\n",
       "    </tr>\n",
       "    <tr>\n",
       "      <th>25%</th>\n",
       "      <td>1.400000</td>\n",
       "      <td>1996.000000</td>\n",
       "      <td>54352.250000</td>\n",
       "      <td>3060.750000</td>\n",
       "    </tr>\n",
       "    <tr>\n",
       "      <th>50%</th>\n",
       "      <td>1.600000</td>\n",
       "      <td>2004.000000</td>\n",
       "      <td>100987.500000</td>\n",
       "      <td>7971.500000</td>\n",
       "    </tr>\n",
       "    <tr>\n",
       "      <th>75%</th>\n",
       "      <td>2.000000</td>\n",
       "      <td>2012.000000</td>\n",
       "      <td>158601.000000</td>\n",
       "      <td>19026.500000</td>\n",
       "    </tr>\n",
       "    <tr>\n",
       "      <th>max</th>\n",
       "      <td>5.000000</td>\n",
       "      <td>2022.000000</td>\n",
       "      <td>453537.000000</td>\n",
       "      <td>168081.000000</td>\n",
       "    </tr>\n",
       "  </tbody>\n",
       "</table>\n",
       "</div>"
      ],
      "text/plain": [
       "        Engine size  Year of manufacture        Mileage          Price\n",
       "count  50000.000000         50000.000000   50000.000000   50000.000000\n",
       "mean       1.773058          2004.209440  112497.320700   13828.903160\n",
       "std        0.734108             9.645965   71632.515602   16416.681336\n",
       "min        1.000000          1984.000000     630.000000      76.000000\n",
       "25%        1.400000          1996.000000   54352.250000    3060.750000\n",
       "50%        1.600000          2004.000000  100987.500000    7971.500000\n",
       "75%        2.000000          2012.000000  158601.000000   19026.500000\n",
       "max        5.000000          2022.000000  453537.000000  168081.000000"
      ]
     },
     "execution_count": 10,
     "metadata": {},
     "output_type": "execute_result"
    }
   ],
   "source": [
    "df.describe()"
   ]
  },
  {
   "cell_type": "code",
   "execution_count": null,
   "id": "075ffbe6",
   "metadata": {},
   "outputs": [],
   "source": []
  }
 ],
 "metadata": {
  "kernelspec": {
   "display_name": "myenv",
   "language": "python",
   "name": "python3"
  },
  "language_info": {
   "codemirror_mode": {
    "name": "ipython",
    "version": 3
   },
   "file_extension": ".py",
   "mimetype": "text/x-python",
   "name": "python",
   "nbconvert_exporter": "python",
   "pygments_lexer": "ipython3",
   "version": "3.13.7"
  }
 },
 "nbformat": 4,
 "nbformat_minor": 5
}
